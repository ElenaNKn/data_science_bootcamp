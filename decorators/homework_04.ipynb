{
  "nbformat": 4,
  "nbformat_minor": 0,
  "metadata": {
    "colab": {
      "provenance": []
    },
    "kernelspec": {
      "name": "python3",
      "display_name": "Python 3"
    },
    "language_info": {
      "name": "python"
    }
  },
  "cells": [
    {
      "cell_type": "markdown",
      "source": [
        "# Домашнее задание: декораторы"
      ],
      "metadata": {
        "id": "QY4qPJPpgyIS"
      }
    },
    {
      "cell_type": "markdown",
      "source": [
        "## Импорт библиотек, установка констант"
      ],
      "metadata": {
        "id": "Chacc6YchldZ"
      }
    },
    {
      "cell_type": "code",
      "source": [
        "import requests\n",
        "import time\n",
        "import re\n",
        "\n",
        "from random import randint\n",
        "from functools import wraps"
      ],
      "metadata": {
        "id": "w8iKrWvwhrFd"
      },
      "execution_count": 1,
      "outputs": []
    },
    {
      "cell_type": "code",
      "source": [
        "BOOK_PATH = 'https://www.gutenberg.org/files/2638/2638-0.txt'"
      ],
      "metadata": {
        "id": "-LRkS0fSi8Np"
      },
      "execution_count": 2,
      "outputs": []
    },
    {
      "cell_type": "markdown",
      "source": [
        "## Задание 1"
      ],
      "metadata": {
        "id": "kARfL8ifg4MH"
      }
    },
    {
      "cell_type": "code",
      "execution_count": 3,
      "metadata": {
        "id": "hNHNWPhngrUl"
      },
      "outputs": [],
      "source": [
        "def benchmark(func):\n",
        "    \"\"\"\n",
        "    Декоратор, выводящий время, которое заняло выполнение декорируемой функции\n",
        "    \"\"\"\n",
        "    @wraps(func)\n",
        "    def wrapper(*args, **kwargs):\n",
        "\n",
        "        start = time.perf_counter()\n",
        "        res = func(*args, **kwargs)\n",
        "        end = time.perf_counter()\n",
        "        print(f'Время выполнения функции {func.__name__}: {end - start:.7f}\\n')\n",
        "        return res\n",
        "\n",
        "    return wrapper"
      ]
    },
    {
      "cell_type": "markdown",
      "source": [
        "## Задание 2"
      ],
      "metadata": {
        "id": "tGlbUKjihL5n"
      }
    },
    {
      "cell_type": "code",
      "source": [
        "def logging(func):\n",
        "    \"\"\"\n",
        "    Декоратор, который выводит параметры с которыми была вызвана функция\n",
        "    \"\"\"\n",
        "    @wraps(func)\n",
        "    def wrapper(*args, **kwargs):\n",
        "\n",
        "        result = func(*args, **kwargs)\n",
        "        print(f'Функция {func.__name__} вызвана с параметрами:\\n{args}, {kwargs}\\n')\n",
        "        return result\n",
        "\n",
        "    return wrapper"
      ],
      "metadata": {
        "id": "wugOZDLqhNe-"
      },
      "execution_count": 4,
      "outputs": []
    },
    {
      "cell_type": "markdown",
      "source": [
        "## Задание 3"
      ],
      "metadata": {
        "id": "Sq1tv5fshTfv"
      }
    },
    {
      "cell_type": "code",
      "source": [
        "def counter(func):\n",
        "    \"\"\"\n",
        "    Декоратор, считающий и выводящий количество вызовов декорируемой функции\n",
        "    \"\"\"\n",
        "    counter = 0\n",
        "    @wraps(func)\n",
        "    def wrapper(*args, **kwargs):\n",
        "        nonlocal counter\n",
        "        counter += 1\n",
        "        print(f'Функция {func.__name__} была вызвана: {counter} раз\\n')\n",
        "        return func(*args, **kwargs)\n",
        "\n",
        "    return wrapper"
      ],
      "metadata": {
        "id": "9nyvuxXkhVeb"
      },
      "execution_count": 5,
      "outputs": []
    },
    {
      "cell_type": "markdown",
      "source": [
        "## Задание 4"
      ],
      "metadata": {
        "id": "uHn8Adfshz5q"
      }
    },
    {
      "cell_type": "code",
      "source": [
        "def memo(func):\n",
        "    \"\"\"\n",
        "    Декоратор, запоминающий результаты исполнения функции func, чьи аргументы args должны быть хешируемыми\n",
        "    \"\"\"\n",
        "    cache = {}\n",
        "    @wraps(func)\n",
        "    def fmemo(*args):\n",
        "        key = tuple(args)\n",
        "\n",
        "        if key in cache.keys():\n",
        "            return cache[key]\n",
        "\n",
        "        res = func(*args)\n",
        "        cache[key] = res\n",
        "        return res\n",
        "\n",
        "    fmemo.cache = cache\n",
        "    return fmemo"
      ],
      "metadata": {
        "id": "R7uu6WtGifNX"
      },
      "execution_count": 6,
      "outputs": []
    },
    {
      "cell_type": "markdown",
      "source": [
        "## Тестирование"
      ],
      "metadata": {
        "id": "Zn5UQCa_izxo"
      }
    },
    {
      "cell_type": "code",
      "source": [
        "@counter\n",
        "@logging\n",
        "@benchmark\n",
        "def word_count(word, url=BOOK_PATH):\n",
        "    \"\"\"\n",
        "    Функция для посчета указанного слова на html-странице\n",
        "    \"\"\"\n",
        "\n",
        "    # отправляем запрос в библиотеку Gutenberg и забираем текст\n",
        "    raw = requests.get(url).text\n",
        "\n",
        "    # заменяем в тексте все небуквенные символы на пробелы\n",
        "    processed_book = re.sub('[\\W]+' , ' ', raw).lower()\n",
        "\n",
        "    # считаем\n",
        "    cnt = len(re.findall(word.lower(), processed_book))\n",
        "\n",
        "    return f\"Cлово {word} встречается {cnt} раз\"\n",
        "\n",
        "print(word_count('whole'))"
      ],
      "metadata": {
        "id": "CHCJ64I8i2QB",
        "colab": {
          "base_uri": "https://localhost:8080/"
        },
        "outputId": "843f0d9b-a837-49cf-c999-cfec534dc202"
      },
      "execution_count": 7,
      "outputs": [
        {
          "output_type": "stream",
          "name": "stdout",
          "text": [
            "Функция word_count была вызвана: 1 раз\n",
            "\n",
            "Время выполнения функции word_count: 0.4173977\n",
            "\n",
            "Функция word_count вызвана с параметрами:\n",
            "('whole',), {}\n",
            "\n",
            "Cлово whole встречается 176 раз\n"
          ]
        }
      ]
    },
    {
      "cell_type": "code",
      "source": [
        "def fib(n):\n",
        "    if n < 2:\n",
        "        return n\n",
        "    return fib(n-2) + fib(n-1)"
      ],
      "metadata": {
        "id": "ZE4Rfn-hh3k3"
      },
      "execution_count": 8,
      "outputs": []
    },
    {
      "cell_type": "code",
      "source": [
        "# измеряем время выполнения\n",
        "fib(15)"
      ],
      "metadata": {
        "id": "Io94NyjiiXG4",
        "colab": {
          "base_uri": "https://localhost:8080/"
        },
        "outputId": "33cae23d-ac8d-45c1-9c7e-1903dfc1d3b7"
      },
      "execution_count": 9,
      "outputs": [
        {
          "output_type": "execute_result",
          "data": {
            "text/plain": [
              "610"
            ]
          },
          "metadata": {},
          "execution_count": 9
        }
      ]
    },
    {
      "cell_type": "code",
      "source": [
        "@benchmark\n",
        "@memo\n",
        "def fib(n):\n",
        "    if n < 2:\n",
        "        return n\n",
        "    return fib(n-2) + fib(n-1)"
      ],
      "metadata": {
        "id": "W9B3e-t9iTUj"
      },
      "execution_count": 10,
      "outputs": []
    },
    {
      "cell_type": "code",
      "source": [
        "# измеряем время выполнения\n",
        "fib(15)"
      ],
      "metadata": {
        "id": "Sk6_4KQaidkh",
        "colab": {
          "base_uri": "https://localhost:8080/"
        },
        "outputId": "6a1d7b49-3ba2-4610-c240-4122f7f7508d"
      },
      "execution_count": 11,
      "outputs": [
        {
          "output_type": "stream",
          "name": "stdout",
          "text": [
            "Время выполнения функции fib: 0.0000022\n",
            "\n",
            "Время выполнения функции fib: 0.0000064\n",
            "\n",
            "Время выполнения функции fib: 0.0000016\n",
            "\n",
            "Время выполнения функции fib: 0.0000561\n",
            "\n",
            "Время выполнения функции fib: 0.0001483\n",
            "\n",
            "Время выполнения функции fib: 0.0000011\n",
            "\n",
            "Время выполнения функции fib: 0.0000011\n",
            "\n",
            "Время выполнения функции fib: 0.0000364\n",
            "\n",
            "Время выполнения функции fib: 0.0002206\n",
            "\n",
            "Время выполнения функции fib: 0.0000009\n",
            "\n",
            "Время выполнения функции fib: 0.0000011\n",
            "\n",
            "Время выполнения функции fib: 0.0000413\n",
            "\n",
            "Время выполнения функции fib: 0.0003087\n",
            "\n",
            "Время выполнения функции fib: 0.0000009\n",
            "\n",
            "Время выполнения функции fib: 0.0000010\n",
            "\n",
            "Время выполнения функции fib: 0.0000380\n",
            "\n",
            "Время выполнения функции fib: 0.0003820\n",
            "\n",
            "Время выполнения функции fib: 0.0000010\n",
            "\n",
            "Время выполнения функции fib: 0.0000009\n",
            "\n",
            "Время выполнения функции fib: 0.0000362\n",
            "\n",
            "Время выполнения функции fib: 0.0004545\n",
            "\n",
            "Время выполнения функции fib: 0.0000010\n",
            "\n",
            "Время выполнения функции fib: 0.0000010\n",
            "\n",
            "Время выполнения функции fib: 0.0000366\n",
            "\n",
            "Время выполнения функции fib: 0.0005272\n",
            "\n",
            "Время выполнения функции fib: 0.0000006\n",
            "\n",
            "Время выполнения функции fib: 0.0000006\n",
            "\n",
            "Время выполнения функции fib: 0.0000229\n",
            "\n",
            "Время выполнения функции fib: 0.0005930\n",
            "\n"
          ]
        },
        {
          "output_type": "execute_result",
          "data": {
            "text/plain": [
              "610"
            ]
          },
          "metadata": {},
          "execution_count": 11
        }
      ]
    },
    {
      "cell_type": "code",
      "source": [],
      "metadata": {
        "id": "U1YpNvmnsnv5"
      },
      "execution_count": 11,
      "outputs": []
    }
  ]
}